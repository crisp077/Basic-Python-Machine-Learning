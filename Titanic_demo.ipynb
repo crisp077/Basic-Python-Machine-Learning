{
 "cells": [
  {
   "cell_type": "markdown",
   "source": [
    "# 泰坦尼克号乘客生存预测"
   ],
   "metadata": {
    "collapsed": false,
    "pycharm": {
     "name": "#%% md\n"
    }
   }
  },
  {
   "cell_type": "markdown",
   "source": [
    "## 流程分析\n",
    "- 1、获取数据\n",
    "- 2、数据处理\n",
    "- - 缺失值处理\n",
    "- - 特征值-字典类型\n",
    "- 3、准备好特征值  目标值\n",
    "- 4、划分数据集\n",
    "- 5、特征工程：字典特征抽取\n",
    "- 6、决策树预估器流程\n",
    "- 7、模型评估"
   ],
   "metadata": {
    "collapsed": false,
    "pycharm": {
     "name": "#%% md\n"
    }
   }
  },
  {
   "cell_type": "code",
   "execution_count": 55,
   "outputs": [],
   "source": [
    "# 1、获取数据\n",
    "import pandas as pd\n",
    "titanic = pd.read_csv(\"titanic.csv\")"
   ],
   "metadata": {
    "collapsed": false,
    "pycharm": {
     "name": "#%%\n"
    }
   }
  },
  {
   "cell_type": "code",
   "execution_count": 56,
   "outputs": [
    {
     "data": {
      "text/plain": "      row.names pclass  survived  \\\n0             1    1st         1   \n1             2    1st         0   \n2             3    1st         0   \n3             4    1st         0   \n4             5    1st         1   \n...         ...    ...       ...   \n1308       1309    3rd         0   \n1309       1310    3rd         0   \n1310       1311    3rd         0   \n1311       1312    3rd         0   \n1312       1313    3rd         0   \n\n                                                 name      age     embarked  \\\n0                        Allen, Miss Elisabeth Walton  29.0000  Southampton   \n1                         Allison, Miss Helen Loraine   2.0000  Southampton   \n2                 Allison, Mr Hudson Joshua Creighton  30.0000  Southampton   \n3     Allison, Mrs Hudson J.C. (Bessie Waldo Daniels)  25.0000  Southampton   \n4                       Allison, Master Hudson Trevor   0.9167  Southampton   \n...                                               ...      ...          ...   \n1308                               Zakarian, Mr Artun      NaN          NaN   \n1309                           Zakarian, Mr Maprieder      NaN          NaN   \n1310                                  Zenn, Mr Philip      NaN          NaN   \n1311                                    Zievens, Rene      NaN          NaN   \n1312                                   Zimmerman, Leo      NaN          NaN   \n\n                            home.dest room      ticket   boat     sex  \n0                        St Louis, MO  B-5  24160 L221      2  female  \n1     Montreal, PQ / Chesterville, ON  C26         NaN    NaN  female  \n2     Montreal, PQ / Chesterville, ON  C26         NaN  (135)    male  \n3     Montreal, PQ / Chesterville, ON  C26         NaN    NaN  female  \n4     Montreal, PQ / Chesterville, ON  C22         NaN     11    male  \n...                               ...  ...         ...    ...     ...  \n1308                              NaN  NaN         NaN    NaN    male  \n1309                              NaN  NaN         NaN    NaN    male  \n1310                              NaN  NaN         NaN    NaN    male  \n1311                              NaN  NaN         NaN    NaN  female  \n1312                              NaN  NaN         NaN    NaN    male  \n\n[1313 rows x 11 columns]",
      "text/html": "<div>\n<style scoped>\n    .dataframe tbody tr th:only-of-type {\n        vertical-align: middle;\n    }\n\n    .dataframe tbody tr th {\n        vertical-align: top;\n    }\n\n    .dataframe thead th {\n        text-align: right;\n    }\n</style>\n<table border=\"1\" class=\"dataframe\">\n  <thead>\n    <tr style=\"text-align: right;\">\n      <th></th>\n      <th>row.names</th>\n      <th>pclass</th>\n      <th>survived</th>\n      <th>name</th>\n      <th>age</th>\n      <th>embarked</th>\n      <th>home.dest</th>\n      <th>room</th>\n      <th>ticket</th>\n      <th>boat</th>\n      <th>sex</th>\n    </tr>\n  </thead>\n  <tbody>\n    <tr>\n      <th>0</th>\n      <td>1</td>\n      <td>1st</td>\n      <td>1</td>\n      <td>Allen, Miss Elisabeth Walton</td>\n      <td>29.0000</td>\n      <td>Southampton</td>\n      <td>St Louis, MO</td>\n      <td>B-5</td>\n      <td>24160 L221</td>\n      <td>2</td>\n      <td>female</td>\n    </tr>\n    <tr>\n      <th>1</th>\n      <td>2</td>\n      <td>1st</td>\n      <td>0</td>\n      <td>Allison, Miss Helen Loraine</td>\n      <td>2.0000</td>\n      <td>Southampton</td>\n      <td>Montreal, PQ / Chesterville, ON</td>\n      <td>C26</td>\n      <td>NaN</td>\n      <td>NaN</td>\n      <td>female</td>\n    </tr>\n    <tr>\n      <th>2</th>\n      <td>3</td>\n      <td>1st</td>\n      <td>0</td>\n      <td>Allison, Mr Hudson Joshua Creighton</td>\n      <td>30.0000</td>\n      <td>Southampton</td>\n      <td>Montreal, PQ / Chesterville, ON</td>\n      <td>C26</td>\n      <td>NaN</td>\n      <td>(135)</td>\n      <td>male</td>\n    </tr>\n    <tr>\n      <th>3</th>\n      <td>4</td>\n      <td>1st</td>\n      <td>0</td>\n      <td>Allison, Mrs Hudson J.C. (Bessie Waldo Daniels)</td>\n      <td>25.0000</td>\n      <td>Southampton</td>\n      <td>Montreal, PQ / Chesterville, ON</td>\n      <td>C26</td>\n      <td>NaN</td>\n      <td>NaN</td>\n      <td>female</td>\n    </tr>\n    <tr>\n      <th>4</th>\n      <td>5</td>\n      <td>1st</td>\n      <td>1</td>\n      <td>Allison, Master Hudson Trevor</td>\n      <td>0.9167</td>\n      <td>Southampton</td>\n      <td>Montreal, PQ / Chesterville, ON</td>\n      <td>C22</td>\n      <td>NaN</td>\n      <td>11</td>\n      <td>male</td>\n    </tr>\n    <tr>\n      <th>...</th>\n      <td>...</td>\n      <td>...</td>\n      <td>...</td>\n      <td>...</td>\n      <td>...</td>\n      <td>...</td>\n      <td>...</td>\n      <td>...</td>\n      <td>...</td>\n      <td>...</td>\n      <td>...</td>\n    </tr>\n    <tr>\n      <th>1308</th>\n      <td>1309</td>\n      <td>3rd</td>\n      <td>0</td>\n      <td>Zakarian, Mr Artun</td>\n      <td>NaN</td>\n      <td>NaN</td>\n      <td>NaN</td>\n      <td>NaN</td>\n      <td>NaN</td>\n      <td>NaN</td>\n      <td>male</td>\n    </tr>\n    <tr>\n      <th>1309</th>\n      <td>1310</td>\n      <td>3rd</td>\n      <td>0</td>\n      <td>Zakarian, Mr Maprieder</td>\n      <td>NaN</td>\n      <td>NaN</td>\n      <td>NaN</td>\n      <td>NaN</td>\n      <td>NaN</td>\n      <td>NaN</td>\n      <td>male</td>\n    </tr>\n    <tr>\n      <th>1310</th>\n      <td>1311</td>\n      <td>3rd</td>\n      <td>0</td>\n      <td>Zenn, Mr Philip</td>\n      <td>NaN</td>\n      <td>NaN</td>\n      <td>NaN</td>\n      <td>NaN</td>\n      <td>NaN</td>\n      <td>NaN</td>\n      <td>male</td>\n    </tr>\n    <tr>\n      <th>1311</th>\n      <td>1312</td>\n      <td>3rd</td>\n      <td>0</td>\n      <td>Zievens, Rene</td>\n      <td>NaN</td>\n      <td>NaN</td>\n      <td>NaN</td>\n      <td>NaN</td>\n      <td>NaN</td>\n      <td>NaN</td>\n      <td>female</td>\n    </tr>\n    <tr>\n      <th>1312</th>\n      <td>1313</td>\n      <td>3rd</td>\n      <td>0</td>\n      <td>Zimmerman, Leo</td>\n      <td>NaN</td>\n      <td>NaN</td>\n      <td>NaN</td>\n      <td>NaN</td>\n      <td>NaN</td>\n      <td>NaN</td>\n      <td>male</td>\n    </tr>\n  </tbody>\n</table>\n<p>1313 rows × 11 columns</p>\n</div>"
     },
     "execution_count": 56,
     "metadata": {},
     "output_type": "execute_result"
    }
   ],
   "source": [
    "titanic"
   ],
   "metadata": {
    "collapsed": false,
    "pycharm": {
     "name": "#%%\n"
    }
   }
  },
  {
   "cell_type": "code",
   "execution_count": 57,
   "outputs": [],
   "source": [
    "# 筛选目标值和特征值\n",
    "x = titanic[['pclass', 'age', 'sex']]\n",
    "y = titanic['survived']"
   ],
   "metadata": {
    "collapsed": false,
    "pycharm": {
     "name": "#%%\n"
    }
   }
  },
  {
   "cell_type": "code",
   "execution_count": 58,
   "outputs": [
    {
     "name": "stderr",
     "output_type": "stream",
     "text": [
      "C:\\Users\\15640\\AppData\\Local\\Temp\\ipykernel_26284\\1349632638.py:3: SettingWithCopyWarning: \n",
      "A value is trying to be set on a copy of a slice from a DataFrame\n",
      "\n",
      "See the caveats in the documentation: https://pandas.pydata.org/pandas-docs/stable/user_guide/indexing.html#returning-a-view-versus-a-copy\n",
      "  x['age'].fillna(x['age'].mean(), inplace=True)\n"
     ]
    }
   ],
   "source": [
    "# 2、数据处理\n",
    "# 缺失值处理\n",
    "x['age'].fillna(x['age'].mean(), inplace=True)"
   ],
   "metadata": {
    "collapsed": false,
    "pycharm": {
     "name": "#%%\n"
    }
   }
  },
  {
   "cell_type": "code",
   "execution_count": 59,
   "outputs": [],
   "source": [
    "# 转换成字典\n",
    "x = x.to_dict(orient='records')"
   ],
   "metadata": {
    "collapsed": false,
    "pycharm": {
     "name": "#%%\n"
    }
   }
  },
  {
   "cell_type": "code",
   "execution_count": 60,
   "outputs": [],
   "source": [
    "from sklearn.model_selection import train_test_split\n",
    "\n",
    "x_train, x_test, y_train, y_test = train_test_split(x, y, random_state=22)"
   ],
   "metadata": {
    "collapsed": false,
    "pycharm": {
     "name": "#%%\n"
    }
   }
  },
  {
   "cell_type": "code",
   "execution_count": 61,
   "outputs": [],
   "source": [
    "# 3、字典特征抽取\n",
    "from sklearn.feature_extraction import DictVectorizer\n",
    "\n",
    "# 实例化\n",
    "transfer = DictVectorizer()\n",
    "x_train = transfer.fit_transform(x_train)\n",
    "x_test = transfer.transform(x_test)"
   ],
   "metadata": {
    "collapsed": false,
    "pycharm": {
     "name": "#%%\n"
    }
   }
  },
  {
   "cell_type": "code",
   "execution_count": 62,
   "outputs": [
    {
     "data": {
      "text/plain": "DecisionTreeClassifier(criterion='entropy', max_depth=5)",
      "text/html": "<style>#sk-container-id-4 {color: black;background-color: white;}#sk-container-id-4 pre{padding: 0;}#sk-container-id-4 div.sk-toggleable {background-color: white;}#sk-container-id-4 label.sk-toggleable__label {cursor: pointer;display: block;width: 100%;margin-bottom: 0;padding: 0.3em;box-sizing: border-box;text-align: center;}#sk-container-id-4 label.sk-toggleable__label-arrow:before {content: \"▸\";float: left;margin-right: 0.25em;color: #696969;}#sk-container-id-4 label.sk-toggleable__label-arrow:hover:before {color: black;}#sk-container-id-4 div.sk-estimator:hover label.sk-toggleable__label-arrow:before {color: black;}#sk-container-id-4 div.sk-toggleable__content {max-height: 0;max-width: 0;overflow: hidden;text-align: left;background-color: #f0f8ff;}#sk-container-id-4 div.sk-toggleable__content pre {margin: 0.2em;color: black;border-radius: 0.25em;background-color: #f0f8ff;}#sk-container-id-4 input.sk-toggleable__control:checked~div.sk-toggleable__content {max-height: 200px;max-width: 100%;overflow: auto;}#sk-container-id-4 input.sk-toggleable__control:checked~label.sk-toggleable__label-arrow:before {content: \"▾\";}#sk-container-id-4 div.sk-estimator input.sk-toggleable__control:checked~label.sk-toggleable__label {background-color: #d4ebff;}#sk-container-id-4 div.sk-label input.sk-toggleable__control:checked~label.sk-toggleable__label {background-color: #d4ebff;}#sk-container-id-4 input.sk-hidden--visually {border: 0;clip: rect(1px 1px 1px 1px);clip: rect(1px, 1px, 1px, 1px);height: 1px;margin: -1px;overflow: hidden;padding: 0;position: absolute;width: 1px;}#sk-container-id-4 div.sk-estimator {font-family: monospace;background-color: #f0f8ff;border: 1px dotted black;border-radius: 0.25em;box-sizing: border-box;margin-bottom: 0.5em;}#sk-container-id-4 div.sk-estimator:hover {background-color: #d4ebff;}#sk-container-id-4 div.sk-parallel-item::after {content: \"\";width: 100%;border-bottom: 1px solid gray;flex-grow: 1;}#sk-container-id-4 div.sk-label:hover label.sk-toggleable__label {background-color: #d4ebff;}#sk-container-id-4 div.sk-serial::before {content: \"\";position: absolute;border-left: 1px solid gray;box-sizing: border-box;top: 0;bottom: 0;left: 50%;z-index: 0;}#sk-container-id-4 div.sk-serial {display: flex;flex-direction: column;align-items: center;background-color: white;padding-right: 0.2em;padding-left: 0.2em;position: relative;}#sk-container-id-4 div.sk-item {position: relative;z-index: 1;}#sk-container-id-4 div.sk-parallel {display: flex;align-items: stretch;justify-content: center;background-color: white;position: relative;}#sk-container-id-4 div.sk-item::before, #sk-container-id-4 div.sk-parallel-item::before {content: \"\";position: absolute;border-left: 1px solid gray;box-sizing: border-box;top: 0;bottom: 0;left: 50%;z-index: -1;}#sk-container-id-4 div.sk-parallel-item {display: flex;flex-direction: column;z-index: 1;position: relative;background-color: white;}#sk-container-id-4 div.sk-parallel-item:first-child::after {align-self: flex-end;width: 50%;}#sk-container-id-4 div.sk-parallel-item:last-child::after {align-self: flex-start;width: 50%;}#sk-container-id-4 div.sk-parallel-item:only-child::after {width: 0;}#sk-container-id-4 div.sk-dashed-wrapped {border: 1px dashed gray;margin: 0 0.4em 0.5em 0.4em;box-sizing: border-box;padding-bottom: 0.4em;background-color: white;}#sk-container-id-4 div.sk-label label {font-family: monospace;font-weight: bold;display: inline-block;line-height: 1.2em;}#sk-container-id-4 div.sk-label-container {text-align: center;}#sk-container-id-4 div.sk-container {/* jupyter's `normalize.less` sets `[hidden] { display: none; }` but bootstrap.min.css set `[hidden] { display: none !important; }` so we also need the `!important` here to be able to override the default hidden behavior on the sphinx rendered scikit-learn.org. See: https://github.com/scikit-learn/scikit-learn/issues/21755 */display: inline-block !important;position: relative;}#sk-container-id-4 div.sk-text-repr-fallback {display: none;}</style><div id=\"sk-container-id-4\" class=\"sk-top-container\"><div class=\"sk-text-repr-fallback\"><pre>DecisionTreeClassifier(criterion=&#x27;entropy&#x27;, max_depth=5)</pre><b>In a Jupyter environment, please rerun this cell to show the HTML representation or trust the notebook. <br />On GitHub, the HTML representation is unable to render, please try loading this page with nbviewer.org.</b></div><div class=\"sk-container\" hidden><div class=\"sk-item\"><div class=\"sk-estimator sk-toggleable\"><input class=\"sk-toggleable__control sk-hidden--visually\" id=\"sk-estimator-id-4\" type=\"checkbox\" checked><label for=\"sk-estimator-id-4\" class=\"sk-toggleable__label sk-toggleable__label-arrow\">DecisionTreeClassifier</label><div class=\"sk-toggleable__content\"><pre>DecisionTreeClassifier(criterion=&#x27;entropy&#x27;, max_depth=5)</pre></div></div></div></div></div>"
     },
     "execution_count": 62,
     "metadata": {},
     "output_type": "execute_result"
    }
   ],
   "source": [
    "# 4、决策树预估器\n",
    "from sklearn.tree import DecisionTreeClassifier\n",
    "\n",
    "# 实例化\n",
    "estimator = DecisionTreeClassifier(criterion='entropy', max_depth=5)\n",
    "# 传入参数\n",
    "estimator.fit(x_train, y_train)"
   ],
   "metadata": {
    "collapsed": false,
    "pycharm": {
     "name": "#%%\n"
    }
   }
  },
  {
   "cell_type": "code",
   "execution_count": 63,
   "outputs": [
    {
     "name": "stdout",
     "output_type": "stream",
     "text": [
      "y_predict:\n",
      " [0 0 0 0 1 1 1 0 0 1 0 0 0 0 0 0 0 0 0 0 0 0 0 0 1 0 0 0 1 1 0 1 0 1 0 0 0\n",
      " 0 0 0 0 0 0 0 0 0 1 1 0 1 0 0 0 0 0 0 0 0 0 0 0 0 0 0 0 0 0 1 0 0 1 0 0 0\n",
      " 1 1 0 0 0 1 0 1 0 0 0 0 0 0 0 0 0 0 0 1 0 1 0 1 0 1 0 0 0 0 0 0 0 0 0 0 1\n",
      " 0 1 0 0 0 0 0 0 0 0 0 1 0 0 1 0 0 1 0 0 1 0 0 0 0 0 0 0 0 1 1 0 0 0 0 1 1\n",
      " 1 0 0 0 0 0 0 0 0 0 0 0 0 0 1 1 0 1 0 0 0 0 1 0 0 0 0 0 1 1 1 1 0 0 0 0 0\n",
      " 0 0 0 1 1 1 0 0 0 0 1 1 1 0 0 0 0 0 0 0 0 0 1 0 0 0 0 0 1 1 0 0 0 0 0 1 0\n",
      " 0 0 1 0 0 0 0 0 0 1 0 0 0 0 1 0 1 0 0 0 1 0 0 1 0 0 0 0 1 0 1 0 0 0 0 1 0\n",
      " 0 1 1 1 0 0 1 0 1 0 1 0 0 0 0 0 0 0 1 0 0 0 0 0 0 0 0 0 0 0 1 0 0 0 0 1 1\n",
      " 0 0 0 1 0 0 0 0 0 0 0 0 0 0 0 0 0 1 0 0 0 0 0 0 1 1 1 1 0 0 0 0 1]\n",
      "直接比对真实值和预测值：\n",
      " 831      True\n",
      "261      True\n",
      "1210     True\n",
      "1155     True\n",
      "255      True\n",
      "        ...  \n",
      "1146     True\n",
      "1125    False\n",
      "386      True\n",
      "1025    False\n",
      "337      True\n",
      "Name: survived, Length: 329, dtype: bool\n",
      "准确率为：\n",
      " 0.790273556231003\n"
     ]
    },
    {
     "name": "stderr",
     "output_type": "stream",
     "text": [
      "D:\\Python\\lib\\site-packages\\sklearn\\utils\\deprecation.py:87: FutureWarning: Function get_feature_names is deprecated; get_feature_names is deprecated in 1.0 and will be removed in 1.2. Please use get_feature_names_out instead.\n",
      "  warnings.warn(msg, category=FutureWarning)\n"
     ]
    }
   ],
   "source": [
    "# 5、模型评估\n",
    "# 方法1：直接比对真实值和预测值\n",
    "y_predict = estimator.predict(x_test)\n",
    "print(\"y_predict:\\n\", y_predict)\n",
    "print(\"直接比对真实值和预测值：\\n\", y_test == y_predict)\n",
    "# 方法2：计算准确率\n",
    "score = estimator.score(x_test, y_test)\n",
    "print(\"准确率为：\\n\", score)\n",
    "# 5、决策树可视化\n",
    "from sklearn.tree import export_graphviz\n",
    "\n",
    "export_graphviz(estimator, out_file='titanic_tree.dot', feature_names=transfer.get_feature_names())"
   ],
   "metadata": {
    "collapsed": false,
    "pycharm": {
     "name": "#%%\n"
    }
   }
  },
  {
   "cell_type": "markdown",
   "source": [
    "# 随机森林对泰坦尼克号乘客的生存进行预测"
   ],
   "metadata": {
    "collapsed": false,
    "pycharm": {
     "name": "#%% md\n"
    }
   }
  },
  {
   "cell_type": "code",
   "execution_count": 64,
   "outputs": [
    {
     "name": "stdout",
     "output_type": "stream",
     "text": [
      "y_predict:\n",
      " [0 0 0 0 1 1 1 0 0 1 0 0 0 0 0 0 0 0 0 0 0 0 0 0 1 0 0 0 1 1 0 1 0 1 0 0 0\n",
      " 0 0 0 0 0 0 0 0 0 1 1 0 1 0 0 0 0 0 0 0 0 0 0 0 0 0 0 0 0 0 1 0 0 1 0 0 0\n",
      " 0 1 0 0 0 1 0 1 0 0 0 0 0 0 0 0 0 0 0 1 0 1 0 1 0 1 0 0 0 0 0 0 0 0 0 0 1\n",
      " 0 1 0 0 0 0 0 0 0 0 0 1 0 0 1 1 0 1 0 0 0 0 0 0 0 0 0 0 0 1 1 0 0 0 0 1 1\n",
      " 1 0 0 0 0 0 0 0 0 0 0 0 0 0 1 1 0 1 0 0 0 0 1 0 0 0 0 0 1 1 1 1 0 0 0 0 0\n",
      " 0 0 0 1 1 1 0 0 0 0 1 1 1 0 0 0 0 0 0 0 0 0 1 0 0 0 0 0 1 1 0 0 0 0 0 1 0\n",
      " 0 0 1 0 0 0 0 0 0 1 0 0 0 0 1 0 1 0 0 0 1 0 0 1 0 0 0 0 1 0 1 0 0 0 0 1 0\n",
      " 0 1 1 1 0 0 1 1 1 0 1 0 0 0 0 0 0 0 1 0 0 0 0 0 0 0 0 0 0 0 1 0 0 0 0 1 1\n",
      " 0 0 0 1 0 0 0 0 0 0 0 0 0 0 0 0 0 1 0 0 0 0 0 0 1 1 0 1 0 0 0 0 1]\n",
      "直接比对真实值和预测值：\n",
      " 831      True\n",
      "261      True\n",
      "1210     True\n",
      "1155     True\n",
      "255      True\n",
      "        ...  \n",
      "1146     True\n",
      "1125    False\n",
      "386      True\n",
      "1025    False\n",
      "337      True\n",
      "Name: survived, Length: 329, dtype: bool\n",
      "准确率为：\n",
      " 0.7872340425531915\n",
      "最佳参数：\n",
      " {'max_depth': 5, 'n_estimators': 300}\n",
      "最佳结果：\n",
      " 0.8373983739837398\n",
      "最佳估计器：\n",
      " RandomForestClassifier(max_depth=5, n_estimators=300)\n",
      "交叉验证结果：\n",
      " {'mean_fit_time': array([0.18252571, 0.27631195, 0.39289904, 0.6923027 , 1.27653225,\n",
      "       1.6790034 , 0.19925658, 0.29335221, 0.51340373, 0.75986139,\n",
      "       1.2105608 , 1.87029417, 0.16784318, 0.34023484, 0.51263603,\n",
      "       0.82059677, 1.29856547, 1.86903524, 0.17062982, 0.2975812 ,\n",
      "       0.50841125, 0.83608055, 1.17631586, 1.90394529, 0.17574032,\n",
      "       0.28561942, 0.43378218, 0.70680245, 1.16714017, 1.76412892]), 'std_fit_time': array([2.97901741e-02, 1.62279399e-02, 1.36300457e-02, 1.66548379e-02,\n",
      "       1.27014911e-01, 2.69411146e-02, 1.39180416e-03, 1.68691474e-04,\n",
      "       4.03099803e-02, 1.28504960e-02, 4.53713982e-02, 1.81715920e-01,\n",
      "       7.38925141e-03, 1.81673728e-02, 1.80110460e-02, 3.53906393e-02,\n",
      "       3.97630384e-02, 1.53325269e-01, 5.75084259e-03, 1.36530710e-02,\n",
      "       8.22227046e-02, 1.05919643e-01, 5.11497485e-02, 5.31625243e-02,\n",
      "       1.59452101e-02, 1.24428118e-02, 1.61236433e-02, 2.14169453e-02,\n",
      "       2.45985125e-02, 3.38767583e-02]), 'mean_score_time': array([0.01363349, 0.02161105, 0.03127805, 0.05143444, 0.09433317,\n",
      "       0.13383993, 0.01379871, 0.02294318, 0.0368913 , 0.05151224,\n",
      "       0.08545868, 0.12036848, 0.01332513, 0.02295431, 0.03291273,\n",
      "       0.07347043, 0.0854218 , 0.11970798, 0.01165167, 0.02144567,\n",
      "       0.03259182, 0.05271673, 0.07844615, 0.11790586, 0.01131892,\n",
      "       0.01994713, 0.03122211, 0.05124283, 0.07680845, 0.11398673]), 'std_score_time': array([0.00123577, 0.0009383 , 0.0016813 , 0.00201968, 0.01164341,\n",
      "       0.01576703, 0.00153979, 0.00140812, 0.00214262, 0.00122593,\n",
      "       0.00172156, 0.00800542, 0.00186177, 0.00327765, 0.00141023,\n",
      "       0.02710931, 0.00374315, 0.00492835, 0.00048185, 0.00070981,\n",
      "       0.00516183, 0.00379953, 0.00260686, 0.00126242, 0.00045864,\n",
      "       0.0016127 , 0.00403601, 0.0033097 , 0.00281074, 0.00438728]), 'param_max_depth': masked_array(data=[5, 5, 5, 5, 5, 5, 8, 8, 8, 8, 8, 8, 15, 15, 15, 15, 15,\n",
      "                   15, 25, 25, 25, 25, 25, 25, 30, 30, 30, 30, 30, 30],\n",
      "             mask=[False, False, False, False, False, False, False, False,\n",
      "                   False, False, False, False, False, False, False, False,\n",
      "                   False, False, False, False, False, False, False, False,\n",
      "                   False, False, False, False, False, False],\n",
      "       fill_value='?',\n",
      "            dtype=object), 'param_n_estimators': masked_array(data=[120, 200, 300, 500, 800, 1200, 120, 200, 300, 500, 800,\n",
      "                   1200, 120, 200, 300, 500, 800, 1200, 120, 200, 300,\n",
      "                   500, 800, 1200, 120, 200, 300, 500, 800, 1200],\n",
      "             mask=[False, False, False, False, False, False, False, False,\n",
      "                   False, False, False, False, False, False, False, False,\n",
      "                   False, False, False, False, False, False, False, False,\n",
      "                   False, False, False, False, False, False],\n",
      "       fill_value='?',\n",
      "            dtype=object), 'params': [{'max_depth': 5, 'n_estimators': 120}, {'max_depth': 5, 'n_estimators': 200}, {'max_depth': 5, 'n_estimators': 300}, {'max_depth': 5, 'n_estimators': 500}, {'max_depth': 5, 'n_estimators': 800}, {'max_depth': 5, 'n_estimators': 1200}, {'max_depth': 8, 'n_estimators': 120}, {'max_depth': 8, 'n_estimators': 200}, {'max_depth': 8, 'n_estimators': 300}, {'max_depth': 8, 'n_estimators': 500}, {'max_depth': 8, 'n_estimators': 800}, {'max_depth': 8, 'n_estimators': 1200}, {'max_depth': 15, 'n_estimators': 120}, {'max_depth': 15, 'n_estimators': 200}, {'max_depth': 15, 'n_estimators': 300}, {'max_depth': 15, 'n_estimators': 500}, {'max_depth': 15, 'n_estimators': 800}, {'max_depth': 15, 'n_estimators': 1200}, {'max_depth': 25, 'n_estimators': 120}, {'max_depth': 25, 'n_estimators': 200}, {'max_depth': 25, 'n_estimators': 300}, {'max_depth': 25, 'n_estimators': 500}, {'max_depth': 25, 'n_estimators': 800}, {'max_depth': 25, 'n_estimators': 1200}, {'max_depth': 30, 'n_estimators': 120}, {'max_depth': 30, 'n_estimators': 200}, {'max_depth': 30, 'n_estimators': 300}, {'max_depth': 30, 'n_estimators': 500}, {'max_depth': 30, 'n_estimators': 800}, {'max_depth': 30, 'n_estimators': 1200}], 'split0_test_score': array([0.82621951, 0.83231707, 0.83536585, 0.82621951, 0.82926829,\n",
      "       0.82621951, 0.80792683, 0.80792683, 0.82012195, 0.81402439,\n",
      "       0.80487805, 0.80487805, 0.80487805, 0.79878049, 0.80487805,\n",
      "       0.79573171, 0.80487805, 0.79268293, 0.79573171, 0.79573171,\n",
      "       0.79573171, 0.79878049, 0.79878049, 0.79268293, 0.79268293,\n",
      "       0.79268293, 0.79268293, 0.79268293, 0.79573171, 0.79268293]), 'split1_test_score': array([0.85365854, 0.85060976, 0.85060976, 0.85060976, 0.85060976,\n",
      "       0.85060976, 0.84756098, 0.84756098, 0.85365854, 0.85365854,\n",
      "       0.85365854, 0.85365854, 0.8445122 , 0.85060976, 0.85365854,\n",
      "       0.84756098, 0.84756098, 0.85365854, 0.84146341, 0.85365854,\n",
      "       0.85365854, 0.85365854, 0.85060976, 0.85060976, 0.84756098,\n",
      "       0.84756098, 0.85060976, 0.85365854, 0.85060976, 0.85060976]), 'split2_test_score': array([0.82317073, 0.82317073, 0.82621951, 0.82621951, 0.82317073,\n",
      "       0.82317073, 0.80487805, 0.80182927, 0.79573171, 0.80182927,\n",
      "       0.80182927, 0.80182927, 0.80182927, 0.80182927, 0.80182927,\n",
      "       0.80487805, 0.80182927, 0.80487805, 0.80182927, 0.80182927,\n",
      "       0.80182927, 0.80487805, 0.80487805, 0.80487805, 0.80487805,\n",
      "       0.80487805, 0.80182927, 0.80487805, 0.80182927, 0.80182927]), 'mean_test_score': array([0.83434959, 0.83536585, 0.83739837, 0.83434959, 0.83434959,\n",
      "       0.83333333, 0.82012195, 0.81910569, 0.82317073, 0.82317073,\n",
      "       0.82012195, 0.82012195, 0.81707317, 0.81707317, 0.82012195,\n",
      "       0.81605691, 0.81808943, 0.81707317, 0.81300813, 0.81707317,\n",
      "       0.81707317, 0.81910569, 0.81808943, 0.81605691, 0.81504065,\n",
      "       0.81504065, 0.81504065, 0.81707317, 0.81605691, 0.81504065]), 'std_test_score': array([0.0137101 , 0.01140749, 0.01006046, 0.01149767, 0.01176406,\n",
      "       0.01227952, 0.0194422 , 0.02027433, 0.02374659, 0.02212555,\n",
      "       0.02374659, 0.02374659, 0.0194422 , 0.02374659, 0.02374659,\n",
      "       0.02258751, 0.02087667, 0.02634447, 0.02027433, 0.02598925,\n",
      "       0.02598925, 0.02455904, 0.02312969, 0.02493464, 0.02352812,\n",
      "       0.02352812, 0.02542682, 0.02634447, 0.02455904, 0.02542682]), 'rank_test_score': array([ 3,  2,  1,  3,  3,  6,  9, 13,  7,  8,  9,  9, 17, 17,  9, 23, 15,\n",
      "       17, 30, 17, 17, 14, 15, 23, 26, 26, 26, 17, 23, 26])}\n"
     ]
    }
   ],
   "source": [
    "from sklearn.ensemble import RandomForestClassifier\n",
    "\n",
    "# 实例化\n",
    "estimator = RandomForestClassifier()\n",
    "\n",
    "# 加入网格搜索与交叉验证\n",
    "from sklearn.model_selection import GridSearchCV\n",
    "\n",
    "# 参数准备\n",
    "param_dict = {\"n_estimators\": [120, 200, 300, 500, 800, 1200],\n",
    "              \"max_depth\": [5, 8, 15, 25, 30],}\n",
    "estimator = GridSearchCV(estimator, param_grid=param_dict, cv=3)\n",
    "estimator.fit(x_train, y_train)\n",
    "# 5、模型评估\n",
    "# 方法1：直接比对真实值和预测值\n",
    "y_predict = estimator.predict(x_test)\n",
    "print(\"y_predict:\\n\", y_predict)\n",
    "print(\"直接比对真实值和预测值：\\n\", y_test == y_predict)\n",
    "# 方法2：计算准确率\n",
    "score = estimator.score(x_test, y_test)\n",
    "print(\"准确率为：\\n\", score)\n",
    "# 打印网格搜索和交叉验证内容\n",
    "print(\"最佳参数：\\n\", estimator.best_params_)\n",
    "print(\"最佳结果：\\n\", estimator.best_score_)\n",
    "print(\"最佳估计器：\\n\", estimator.best_estimator_)\n",
    "print(\"交叉验证结果：\\n\", estimator.cv_results_)"
   ],
   "metadata": {
    "collapsed": false,
    "pycharm": {
     "name": "#%%\n"
    }
   }
  }
 ],
 "metadata": {
  "kernelspec": {
   "display_name": "Python 3",
   "language": "python",
   "name": "python3"
  },
  "language_info": {
   "codemirror_mode": {
    "name": "ipython",
    "version": 2
   },
   "file_extension": ".py",
   "mimetype": "text/x-python",
   "name": "python",
   "nbconvert_exporter": "python",
   "pygments_lexer": "ipython2",
   "version": "2.7.6"
  }
 },
 "nbformat": 4,
 "nbformat_minor": 0
}